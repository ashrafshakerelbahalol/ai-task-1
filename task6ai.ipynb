{
 "cells": [
  {
   "cell_type": "code",
   "execution_count": 3,
   "metadata": {},
   "outputs": [],
   "source": [
    "# Importing the libraries\n",
    "import numpy as np\n",
    "import matplotlib.pyplot as plt\n",
    "import pandas as pd"
   ]
  },
  {
   "cell_type": "code",
   "execution_count": 4,
   "metadata": {},
   "outputs": [
    {
     "data": {
      "text/html": [
       "<div>\n",
       "<style scoped>\n",
       "    .dataframe tbody tr th:only-of-type {\n",
       "        vertical-align: middle;\n",
       "    }\n",
       "\n",
       "    .dataframe tbody tr th {\n",
       "        vertical-align: top;\n",
       "    }\n",
       "\n",
       "    .dataframe thead th {\n",
       "        text-align: right;\n",
       "    }\n",
       "</style>\n",
       "<table border=\"1\" class=\"dataframe\">\n",
       "  <thead>\n",
       "    <tr style=\"text-align: right;\">\n",
       "      <th></th>\n",
       "      <th>Title</th>\n",
       "      <th>Company</th>\n",
       "      <th>Location</th>\n",
       "      <th>Type</th>\n",
       "      <th>Level</th>\n",
       "      <th>YearsExp</th>\n",
       "      <th>Country</th>\n",
       "      <th>Skills</th>\n",
       "    </tr>\n",
       "  </thead>\n",
       "  <tbody>\n",
       "    <tr>\n",
       "      <td>0</td>\n",
       "      <td>Customer Service Agent</td>\n",
       "      <td>Johnson Controls</td>\n",
       "      <td>New Cairo</td>\n",
       "      <td>Full Time</td>\n",
       "      <td>Entry Level</td>\n",
       "      <td>1-3 Yrs of Exp</td>\n",
       "      <td>Cairo</td>\n",
       "      <td>Call Center, Customer Support, Customer Care, ...</td>\n",
       "    </tr>\n",
       "    <tr>\n",
       "      <td>1</td>\n",
       "      <td>Marketing Manager</td>\n",
       "      <td>SYE English Community</td>\n",
       "      <td>Dokki</td>\n",
       "      <td>Full Time</td>\n",
       "      <td>Manager</td>\n",
       "      <td>5-10 Yrs of Exp</td>\n",
       "      <td>Giza</td>\n",
       "      <td>Market Research, Social Media, Online Marketin...</td>\n",
       "    </tr>\n",
       "    <tr>\n",
       "      <td>2</td>\n",
       "      <td>Medical Representative Heliopolis</td>\n",
       "      <td>So Value Pharma</td>\n",
       "      <td>Cairo</td>\n",
       "      <td>Full Time</td>\n",
       "      <td>Entry Level</td>\n",
       "      <td>0-5 Yrs of Exp</td>\n",
       "      <td>Egypt</td>\n",
       "      <td>Cardio-metabolic, Sales Skills, Sales Target, ...</td>\n",
       "    </tr>\n",
       "    <tr>\n",
       "      <td>3</td>\n",
       "      <td>Order Handling Specialist</td>\n",
       "      <td>Johnson Controls</td>\n",
       "      <td>New Cairo</td>\n",
       "      <td>Full Time</td>\n",
       "      <td>Experienced</td>\n",
       "      <td>3-5 Yrs of Exp</td>\n",
       "      <td>Cairo</td>\n",
       "      <td>Supply Officer, Supply Planner, Procurement an...</td>\n",
       "    </tr>\n",
       "    <tr>\n",
       "      <td>4</td>\n",
       "      <td>Storekeeper</td>\n",
       "      <td>Confidential</td>\n",
       "      <td>Cairo</td>\n",
       "      <td>Full Time</td>\n",
       "      <td>Experienced</td>\n",
       "      <td>3+ Yrs of Exp</td>\n",
       "      <td>Egypt</td>\n",
       "      <td>Warehousing, Storekeeping, Logistics/Supply Chain</td>\n",
       "    </tr>\n",
       "  </tbody>\n",
       "</table>\n",
       "</div>"
      ],
      "text/plain": [
       "                               Title                Company    Location  \\\n",
       "0             Customer Service Agent       Johnson Controls   New Cairo   \n",
       "1                  Marketing Manager  SYE English Community       Dokki   \n",
       "2  Medical Representative Heliopolis        So Value Pharma       Cairo   \n",
       "3          Order Handling Specialist       Johnson Controls   New Cairo   \n",
       "4                        Storekeeper           Confidential       Cairo   \n",
       "\n",
       "        Type        Level         YearsExp Country  \\\n",
       "0  Full Time  Entry Level   1-3 Yrs of Exp   Cairo   \n",
       "1  Full Time      Manager  5-10 Yrs of Exp    Giza   \n",
       "2  Full Time  Entry Level   0-5 Yrs of Exp   Egypt   \n",
       "3  Full Time  Experienced   3-5 Yrs of Exp   Cairo   \n",
       "4  Full Time  Experienced    3+ Yrs of Exp   Egypt   \n",
       "\n",
       "                                              Skills  \n",
       "0  Call Center, Customer Support, Customer Care, ...  \n",
       "1  Market Research, Social Media, Online Marketin...  \n",
       "2  Cardio-metabolic, Sales Skills, Sales Target, ...  \n",
       "3  Supply Officer, Supply Planner, Procurement an...  \n",
       "4  Warehousing, Storekeeping, Logistics/Supply Chain  "
      ]
     },
     "execution_count": 4,
     "metadata": {},
     "output_type": "execute_result"
    }
   ],
   "source": [
    "# Importing the dataset\n",
    "dataset = pd.read_csv('Wuzzuf_Jobs.csv')\n",
    "dataset.head()"
   ]
  },
  {
   "cell_type": "code",
   "execution_count": 5,
   "metadata": {},
   "outputs": [
    {
     "data": {
      "text/html": [
       "<div>\n",
       "<style scoped>\n",
       "    .dataframe tbody tr th:only-of-type {\n",
       "        vertical-align: middle;\n",
       "    }\n",
       "\n",
       "    .dataframe tbody tr th {\n",
       "        vertical-align: top;\n",
       "    }\n",
       "\n",
       "    .dataframe thead th {\n",
       "        text-align: right;\n",
       "    }\n",
       "</style>\n",
       "<table border=\"1\" class=\"dataframe\">\n",
       "  <thead>\n",
       "    <tr style=\"text-align: right;\">\n",
       "      <th></th>\n",
       "      <th>Title</th>\n",
       "      <th>Company</th>\n",
       "      <th>Location</th>\n",
       "      <th>Type</th>\n",
       "      <th>Level</th>\n",
       "      <th>YearsExp</th>\n",
       "      <th>Country</th>\n",
       "      <th>Skills</th>\n",
       "      <th>fact</th>\n",
       "    </tr>\n",
       "  </thead>\n",
       "  <tbody>\n",
       "    <tr>\n",
       "      <td>0</td>\n",
       "      <td>Customer Service Agent</td>\n",
       "      <td>Johnson Controls</td>\n",
       "      <td>New Cairo</td>\n",
       "      <td>Full Time</td>\n",
       "      <td>Entry Level</td>\n",
       "      <td>1-3 Yrs of Exp</td>\n",
       "      <td>Cairo</td>\n",
       "      <td>Call Center, Customer Support, Customer Care, ...</td>\n",
       "      <td>0</td>\n",
       "    </tr>\n",
       "    <tr>\n",
       "      <td>1</td>\n",
       "      <td>Marketing Manager</td>\n",
       "      <td>SYE English Community</td>\n",
       "      <td>Dokki</td>\n",
       "      <td>Full Time</td>\n",
       "      <td>Manager</td>\n",
       "      <td>5-10 Yrs of Exp</td>\n",
       "      <td>Giza</td>\n",
       "      <td>Market Research, Social Media, Online Marketin...</td>\n",
       "      <td>1</td>\n",
       "    </tr>\n",
       "    <tr>\n",
       "      <td>2</td>\n",
       "      <td>Medical Representative Heliopolis</td>\n",
       "      <td>So Value Pharma</td>\n",
       "      <td>Cairo</td>\n",
       "      <td>Full Time</td>\n",
       "      <td>Entry Level</td>\n",
       "      <td>0-5 Yrs of Exp</td>\n",
       "      <td>Egypt</td>\n",
       "      <td>Cardio-metabolic, Sales Skills, Sales Target, ...</td>\n",
       "      <td>2</td>\n",
       "    </tr>\n",
       "    <tr>\n",
       "      <td>3</td>\n",
       "      <td>Order Handling Specialist</td>\n",
       "      <td>Johnson Controls</td>\n",
       "      <td>New Cairo</td>\n",
       "      <td>Full Time</td>\n",
       "      <td>Experienced</td>\n",
       "      <td>3-5 Yrs of Exp</td>\n",
       "      <td>Cairo</td>\n",
       "      <td>Supply Officer, Supply Planner, Procurement an...</td>\n",
       "      <td>3</td>\n",
       "    </tr>\n",
       "    <tr>\n",
       "      <td>4</td>\n",
       "      <td>Storekeeper</td>\n",
       "      <td>Confidential</td>\n",
       "      <td>Cairo</td>\n",
       "      <td>Full Time</td>\n",
       "      <td>Experienced</td>\n",
       "      <td>3+ Yrs of Exp</td>\n",
       "      <td>Egypt</td>\n",
       "      <td>Warehousing, Storekeeping, Logistics/Supply Chain</td>\n",
       "      <td>4</td>\n",
       "    </tr>\n",
       "  </tbody>\n",
       "</table>\n",
       "</div>"
      ],
      "text/plain": [
       "                               Title                Company    Location  \\\n",
       "0             Customer Service Agent       Johnson Controls   New Cairo   \n",
       "1                  Marketing Manager  SYE English Community       Dokki   \n",
       "2  Medical Representative Heliopolis        So Value Pharma       Cairo   \n",
       "3          Order Handling Specialist       Johnson Controls   New Cairo   \n",
       "4                        Storekeeper           Confidential       Cairo   \n",
       "\n",
       "        Type        Level         YearsExp Country  \\\n",
       "0  Full Time  Entry Level   1-3 Yrs of Exp   Cairo   \n",
       "1  Full Time      Manager  5-10 Yrs of Exp    Giza   \n",
       "2  Full Time  Entry Level   0-5 Yrs of Exp   Egypt   \n",
       "3  Full Time  Experienced   3-5 Yrs of Exp   Cairo   \n",
       "4  Full Time  Experienced    3+ Yrs of Exp   Egypt   \n",
       "\n",
       "                                              Skills  fact  \n",
       "0  Call Center, Customer Support, Customer Care, ...     0  \n",
       "1  Market Research, Social Media, Online Marketin...     1  \n",
       "2  Cardio-metabolic, Sales Skills, Sales Target, ...     2  \n",
       "3  Supply Officer, Supply Planner, Procurement an...     3  \n",
       "4  Warehousing, Storekeeping, Logistics/Supply Chain     4  "
      ]
     },
     "execution_count": 5,
     "metadata": {},
     "output_type": "execute_result"
    }
   ],
   "source": [
    "dataset['fact'] = pd.factorize(dataset['YearsExp'])[0]\n",
    "dataset.head()"
   ]
  },
  {
   "cell_type": "code",
   "execution_count": 6,
   "metadata": {},
   "outputs": [],
   "source": [
    "dataset['Title'] = pd.factorize(dataset['Title'])[0]\n",
    "dataset['Company'] = pd.factorize(dataset['Company'])[0]"
   ]
  },
  {
   "cell_type": "code",
   "execution_count": 7,
   "metadata": {},
   "outputs": [
    {
     "name": "stdout",
     "output_type": "stream",
     "text": [
      "         0     1\n",
      "0        0     0\n",
      "1        1     1\n",
      "2        2     2\n",
      "3        3     0\n",
      "4        4     3\n",
      "...    ...   ...\n",
      "4375  2961  1532\n",
      "4376  2962   584\n",
      "4377  2963  1533\n",
      "4378  2048   133\n",
      "4379  2964  1533\n",
      "\n",
      "[4380 rows x 2 columns]\n"
     ]
    }
   ],
   "source": [
    "X = dataset.iloc[:, 0:2].values\n",
    "print(pd.DataFrame(X))"
   ]
  },
  {
   "cell_type": "code",
   "execution_count": 8,
   "metadata": {},
   "outputs": [],
   "source": [
    "# Using the elbow method to find the optimal number of clusters\n",
    "from sklearn.cluster import KMeans\n",
    "wcss = []\n",
    "for i in range(1, 11):\n",
    "    kmeans = KMeans(n_clusters = i, init = 'k-means++', random_state = 42)\n",
    "    kmeans.fit(X)\n",
    "    wcss.append(kmeans.inertia_)"
   ]
  },
  {
   "cell_type": "code",
   "execution_count": 9,
   "metadata": {},
   "outputs": [
    {
     "data": {
      "image/png": "[encoded data removed]",
      "text/plain": [
       "<Figure size 432x288 with 1 Axes>"
      ]
     },
     "metadata": {
      "needs_background": "light"
     },
     "output_type": "display_data"
    }
   ],
   "source": [
    "plt.plot(range(1, 11), wcss)\n",
    "plt.title('The Elbow Method')\n",
    "plt.xlabel('Number of clusters')\n",
    "plt.ylabel('WCSS')\n",
    "plt.show()"
   ]
  },
  {
   "cell_type": "code",
   "execution_count": 10,
   "metadata": {},
   "outputs": [
    {
     "data": {
      "text/plain": [
       "array([False, False, False, ...,  True,  True,  True])"
      ]
     },
     "execution_count": 10,
     "metadata": {},
     "output_type": "execute_result"
    }
   ],
   "source": [
    "# Fitting K-Means to the dataset\n",
    "kmeans = KMeans(n_clusters = 2, init = 'k-means++', random_state = 42)\n",
    "y_kmeans = kmeans.fit_predict(X)\n",
    "y_kmeans == 0"
   ]
  },
  {
   "cell_type": "code",
   "execution_count": 12,
   "metadata": {},
   "outputs": [
    {
     "data": {
      "image/png": "[encoded data removed]",
      "text/plain": [
       "<Figure size 432x288 with 1 Axes>"
      ]
     },
     "metadata": {
      "needs_background": "light"
     },
     "output_type": "display_data"
    }
   ],
   "source": [
    "# Visualising the clusters\n",
    "plt.scatter(X[y_kmeans == 0, 0], X[y_kmeans == 0, 1], s = 100, c = 'green', label = 'Cluster 1')\n",
    "plt.scatter(X[y_kmeans == 1, 0], X[y_kmeans == 1, 1], s = 100, c = 'grey', label = 'Cluster 2')\n",
    "\n",
    "plt.scatter(kmeans.cluster_centers_[:, 0], kmeans.cluster_centers_[:, 1], s = 300, c = 'red', label = 'Centroids')\n",
    "plt.title('Clusters of customers')\n",
    "plt.xlabel('Annual Income (k$)')\n",
    "plt.ylabel('Spending Score (1-100)')\n",
    "plt.legend()\n",
    "plt.show()"
   ]
  },
  {
   "cell_type": "code",
   "execution_count": null,
   "metadata": {},
   "outputs": [],
   "source": []
  },
  {
   "cell_type": "code",
   "execution_count": null,
   "metadata": {},
   "outputs": [],
   "source": []
  }
 ],
 "metadata": {
  "kernelspec": {
   "display_name": "Python 3",
   "language": "python",
   "name": "python3"
  },
  "language_info": {
   "codemirror_mode": {
    "name": "ipython",
    "version": 3
   },
   "file_extension": ".py",
   "mimetype": "text/x-python",
   "name": "python",
   "nbconvert_exporter": "python",
   "pygments_lexer": "ipython3",
   "version": "3.7.4"
  }
 },
 "nbformat": 4,
 "nbformat_minor": 2
}
